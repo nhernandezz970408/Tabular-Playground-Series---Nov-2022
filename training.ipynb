{
 "cells": [
  {
   "cell_type": "code",
   "execution_count": 1,
   "id": "d6351306",
   "metadata": {
    "execution": {
     "iopub.execute_input": "2022-11-19T02:44:02.566389Z",
     "iopub.status.busy": "2022-11-19T02:44:02.566022Z",
     "iopub.status.idle": "2022-11-19T02:44:02.574488Z",
     "shell.execute_reply": "2022-11-19T02:44:02.573651Z"
    },
    "papermill": {
     "duration": 0.019059,
     "end_time": "2022-11-19T02:44:02.576225",
     "exception": false,
     "start_time": "2022-11-19T02:44:02.557166",
     "status": "completed"
    },
    "tags": []
   },
   "outputs": [],
   "source": [
    "import pandas as pd\n",
    "import numpy as np\n",
    "import os\n",
    "pd.reset_option('display.max_columns', 100)\n",
    "pd.reset_option('display.max_rows', 100)"
   ]
  },
  {
   "cell_type": "code",
   "execution_count": 2,
   "id": "972cfafc",
   "metadata": {
    "execution": {
     "iopub.execute_input": "2022-11-19T02:44:02.591289Z",
     "iopub.status.busy": "2022-11-19T02:44:02.590553Z",
     "iopub.status.idle": "2022-11-19T02:44:02.638675Z",
     "shell.execute_reply": "2022-11-19T02:44:02.637639Z"
    },
    "papermill": {
     "duration": 0.057431,
     "end_time": "2022-11-19T02:44:02.640435",
     "exception": false,
     "start_time": "2022-11-19T02:44:02.583004",
     "status": "completed"
    },
    "tags": []
   },
   "outputs": [
    {
     "data": {
      "text/html": [
       "<div>\n",
       "<style scoped>\n",
       "    .dataframe tbody tr th:only-of-type {\n",
       "        vertical-align: middle;\n",
       "    }\n",
       "\n",
       "    .dataframe tbody tr th {\n",
       "        vertical-align: top;\n",
       "    }\n",
       "\n",
       "    .dataframe thead th {\n",
       "        text-align: right;\n",
       "    }\n",
       "</style>\n",
       "<table border=\"1\" class=\"dataframe\">\n",
       "  <thead>\n",
       "    <tr style=\"text-align: right;\">\n",
       "      <th></th>\n",
       "      <th>pred</th>\n",
       "    </tr>\n",
       "    <tr>\n",
       "      <th>id</th>\n",
       "      <th></th>\n",
       "    </tr>\n",
       "  </thead>\n",
       "  <tbody>\n",
       "    <tr>\n",
       "      <th>20000</th>\n",
       "      <td>0.640707</td>\n",
       "    </tr>\n",
       "    <tr>\n",
       "      <th>20001</th>\n",
       "      <td>0.636904</td>\n",
       "    </tr>\n",
       "  </tbody>\n",
       "</table>\n",
       "</div>"
      ],
      "text/plain": [
       "           pred\n",
       "id             \n",
       "20000  0.640707\n",
       "20001  0.636904"
      ]
     },
     "execution_count": 2,
     "metadata": {},
     "output_type": "execute_result"
    }
   ],
   "source": [
    "df = pd.read_csv('../input/tabular-playground-series-nov-2022/sample_submission.csv', index_col='id')\n",
    "df.head(2)"
   ]
  },
  {
   "cell_type": "code",
   "execution_count": 3,
   "id": "930aa208",
   "metadata": {
    "execution": {
     "iopub.execute_input": "2022-11-19T02:44:02.655242Z",
     "iopub.status.busy": "2022-11-19T02:44:02.654452Z",
     "iopub.status.idle": "2022-11-19T02:44:02.671164Z",
     "shell.execute_reply": "2022-11-19T02:44:02.670110Z"
    },
    "papermill": {
     "duration": 0.026954,
     "end_time": "2022-11-19T02:44:02.673921",
     "exception": false,
     "start_time": "2022-11-19T02:44:02.646967",
     "status": "completed"
    },
    "tags": []
   },
   "outputs": [
    {
     "data": {
      "text/html": [
       "<div>\n",
       "<style scoped>\n",
       "    .dataframe tbody tr th:only-of-type {\n",
       "        vertical-align: middle;\n",
       "    }\n",
       "\n",
       "    .dataframe tbody tr th {\n",
       "        vertical-align: top;\n",
       "    }\n",
       "\n",
       "    .dataframe thead th {\n",
       "        text-align: right;\n",
       "    }\n",
       "</style>\n",
       "<table border=\"1\" class=\"dataframe\">\n",
       "  <thead>\n",
       "    <tr style=\"text-align: right;\">\n",
       "      <th></th>\n",
       "      <th>id</th>\n",
       "      <th>label</th>\n",
       "    </tr>\n",
       "  </thead>\n",
       "  <tbody>\n",
       "    <tr>\n",
       "      <th>0</th>\n",
       "      <td>0</td>\n",
       "      <td>0</td>\n",
       "    </tr>\n",
       "    <tr>\n",
       "      <th>1</th>\n",
       "      <td>1</td>\n",
       "      <td>1</td>\n",
       "    </tr>\n",
       "    <tr>\n",
       "      <th>2</th>\n",
       "      <td>2</td>\n",
       "      <td>1</td>\n",
       "    </tr>\n",
       "  </tbody>\n",
       "</table>\n",
       "</div>"
      ],
      "text/plain": [
       "   id  label\n",
       "0   0      0\n",
       "1   1      1\n",
       "2   2      1"
      ]
     },
     "execution_count": 3,
     "metadata": {},
     "output_type": "execute_result"
    }
   ],
   "source": [
    "labels = pd.read_csv('../input/tabular-playground-series-nov-2022/train_labels.csv')\n",
    "labels.head(3)"
   ]
  },
  {
   "cell_type": "code",
   "execution_count": 4,
   "id": "1f49cf67",
   "metadata": {
    "execution": {
     "iopub.execute_input": "2022-11-19T02:44:02.689971Z",
     "iopub.status.busy": "2022-11-19T02:44:02.688657Z",
     "iopub.status.idle": "2022-11-19T02:46:07.828574Z",
     "shell.execute_reply": "2022-11-19T02:46:07.827584Z"
    },
    "papermill": {
     "duration": 125.156783,
     "end_time": "2022-11-19T02:46:07.837556",
     "exception": false,
     "start_time": "2022-11-19T02:44:02.680773",
     "status": "completed"
    },
    "tags": []
   },
   "outputs": [
    {
     "data": {
      "text/html": [
       "<div>\n",
       "<style scoped>\n",
       "    .dataframe tbody tr th:only-of-type {\n",
       "        vertical-align: middle;\n",
       "    }\n",
       "\n",
       "    .dataframe tbody tr th {\n",
       "        vertical-align: top;\n",
       "    }\n",
       "\n",
       "    .dataframe thead th {\n",
       "        text-align: right;\n",
       "    }\n",
       "</style>\n",
       "<table border=\"1\" class=\"dataframe\">\n",
       "  <thead>\n",
       "    <tr style=\"text-align: right;\">\n",
       "      <th></th>\n",
       "      <th>0.6222863195.csv</th>\n",
       "      <th>0.6223807245.csv</th>\n",
       "      <th>0.6225426578.csv</th>\n",
       "      <th>0.6247722291.csv</th>\n",
       "      <th>0.6253455681.csv</th>\n",
       "      <th>0.6254850917.csv</th>\n",
       "      <th>0.6255093621.csv</th>\n",
       "      <th>0.6260141578.csv</th>\n",
       "      <th>0.6263493693.csv</th>\n",
       "      <th>0.6272779211.csv</th>\n",
       "      <th>...</th>\n",
       "      <th>0.7519100517.csv</th>\n",
       "      <th>0.7519556278.csv</th>\n",
       "      <th>0.7520219713.csv</th>\n",
       "      <th>0.7521219579.csv</th>\n",
       "      <th>0.7522329272.csv</th>\n",
       "      <th>0.7523602310.csv</th>\n",
       "      <th>0.7526089604.csv</th>\n",
       "      <th>0.7526999358.csv</th>\n",
       "      <th>0.7551167673.csv</th>\n",
       "      <th>0.7575039918.csv</th>\n",
       "    </tr>\n",
       "  </thead>\n",
       "  <tbody>\n",
       "    <tr>\n",
       "      <th>0</th>\n",
       "      <td>0.709336</td>\n",
       "      <td>0.799007</td>\n",
       "      <td>0.851891</td>\n",
       "      <td>0.537158</td>\n",
       "      <td>0.623930</td>\n",
       "      <td>0.705970</td>\n",
       "      <td>0.503437</td>\n",
       "      <td>0.633185</td>\n",
       "      <td>0.641550</td>\n",
       "      <td>0.666604</td>\n",
       "      <td>...</td>\n",
       "      <td>0.769207</td>\n",
       "      <td>0.750250</td>\n",
       "      <td>0.663370</td>\n",
       "      <td>0.739333</td>\n",
       "      <td>0.822384</td>\n",
       "      <td>0.749498</td>\n",
       "      <td>0.729800</td>\n",
       "      <td>0.867847</td>\n",
       "      <td>0.745888</td>\n",
       "      <td>0.787</td>\n",
       "    </tr>\n",
       "    <tr>\n",
       "      <th>1</th>\n",
       "      <td>0.452988</td>\n",
       "      <td>0.364453</td>\n",
       "      <td>0.567582</td>\n",
       "      <td>0.354468</td>\n",
       "      <td>0.513818</td>\n",
       "      <td>0.584119</td>\n",
       "      <td>0.454809</td>\n",
       "      <td>0.238501</td>\n",
       "      <td>0.472171</td>\n",
       "      <td>0.522314</td>\n",
       "      <td>...</td>\n",
       "      <td>0.640052</td>\n",
       "      <td>0.794052</td>\n",
       "      <td>0.721298</td>\n",
       "      <td>0.804369</td>\n",
       "      <td>0.620626</td>\n",
       "      <td>0.733606</td>\n",
       "      <td>0.816942</td>\n",
       "      <td>0.814229</td>\n",
       "      <td>0.598331</td>\n",
       "      <td>0.547</td>\n",
       "    </tr>\n",
       "  </tbody>\n",
       "</table>\n",
       "<p>2 rows × 5000 columns</p>\n",
       "</div>"
      ],
      "text/plain": [
       "   0.6222863195.csv  0.6223807245.csv  0.6225426578.csv  0.6247722291.csv  \\\n",
       "0          0.709336          0.799007          0.851891          0.537158   \n",
       "1          0.452988          0.364453          0.567582          0.354468   \n",
       "\n",
       "   0.6253455681.csv  0.6254850917.csv  0.6255093621.csv  0.6260141578.csv  \\\n",
       "0          0.623930          0.705970          0.503437          0.633185   \n",
       "1          0.513818          0.584119          0.454809          0.238501   \n",
       "\n",
       "   0.6263493693.csv  0.6272779211.csv  ...  0.7519100517.csv  \\\n",
       "0          0.641550          0.666604  ...          0.769207   \n",
       "1          0.472171          0.522314  ...          0.640052   \n",
       "\n",
       "   0.7519556278.csv  0.7520219713.csv  0.7521219579.csv  0.7522329272.csv  \\\n",
       "0          0.750250          0.663370          0.739333          0.822384   \n",
       "1          0.794052          0.721298          0.804369          0.620626   \n",
       "\n",
       "   0.7523602310.csv  0.7526089604.csv  0.7526999358.csv  0.7551167673.csv  \\\n",
       "0          0.749498          0.729800          0.867847          0.745888   \n",
       "1          0.733606          0.816942          0.814229          0.598331   \n",
       "\n",
       "   0.7575039918.csv  \n",
       "0             0.787  \n",
       "1             0.547  \n",
       "\n",
       "[2 rows x 5000 columns]"
      ]
     },
     "execution_count": 4,
     "metadata": {},
     "output_type": "execute_result"
    }
   ],
   "source": [
    "subs = sorted(os.listdir('/kaggle/input/tabular-playground-series-nov-2022/submission_files')) #Sabel el número de submission files\n",
    "s0 = pd.read_csv('/kaggle/input/tabular-playground-series-nov-2022/submission_files/' + subs[0], index_col='id') # Primer submission file\n",
    "\n",
    "X_train = np.zeros((s0.shape[0], len(subs))) #Creamos base de training\n",
    "for i, name in enumerate(subs): #Ciclo para llenar la base de training\n",
    "    sub = pd.read_csv('/kaggle/input/tabular-playground-series-nov-2022/submission_files/' + name, index_col='id')\n",
    "    X_train[:,i] = sub.pred.values\n",
    "X_train = pd.DataFrame(X_train, columns=subs)# Base de training\n",
    "X_train.head(2)"
   ]
  },
  {
   "cell_type": "code",
   "execution_count": 5,
   "id": "8b9c5a93",
   "metadata": {
    "execution": {
     "iopub.execute_input": "2022-11-19T02:46:07.853729Z",
     "iopub.status.busy": "2022-11-19T02:46:07.853398Z",
     "iopub.status.idle": "2022-11-19T02:46:07.878452Z",
     "shell.execute_reply": "2022-11-19T02:46:07.877307Z"
    },
    "papermill": {
     "duration": 0.035138,
     "end_time": "2022-11-19T02:46:07.880568",
     "exception": false,
     "start_time": "2022-11-19T02:46:07.845430",
     "status": "completed"
    },
    "tags": []
   },
   "outputs": [
    {
     "data": {
      "text/html": [
       "<div>\n",
       "<style scoped>\n",
       "    .dataframe tbody tr th:only-of-type {\n",
       "        vertical-align: middle;\n",
       "    }\n",
       "\n",
       "    .dataframe tbody tr th {\n",
       "        vertical-align: top;\n",
       "    }\n",
       "\n",
       "    .dataframe thead th {\n",
       "        text-align: right;\n",
       "    }\n",
       "</style>\n",
       "<table border=\"1\" class=\"dataframe\">\n",
       "  <thead>\n",
       "    <tr style=\"text-align: right;\">\n",
       "      <th></th>\n",
       "      <th>0.6222863195.csv</th>\n",
       "      <th>0.6223807245.csv</th>\n",
       "      <th>0.6225426578.csv</th>\n",
       "      <th>0.6247722291.csv</th>\n",
       "      <th>0.6253455681.csv</th>\n",
       "      <th>0.6254850917.csv</th>\n",
       "      <th>0.6255093621.csv</th>\n",
       "      <th>0.6260141578.csv</th>\n",
       "      <th>0.6263493693.csv</th>\n",
       "      <th>0.6272779211.csv</th>\n",
       "      <th>...</th>\n",
       "      <th>0.7519556278.csv</th>\n",
       "      <th>0.7520219713.csv</th>\n",
       "      <th>0.7521219579.csv</th>\n",
       "      <th>0.7522329272.csv</th>\n",
       "      <th>0.7523602310.csv</th>\n",
       "      <th>0.7526089604.csv</th>\n",
       "      <th>0.7526999358.csv</th>\n",
       "      <th>0.7551167673.csv</th>\n",
       "      <th>0.7575039918.csv</th>\n",
       "      <th>label</th>\n",
       "    </tr>\n",
       "  </thead>\n",
       "  <tbody>\n",
       "    <tr>\n",
       "      <th>0</th>\n",
       "      <td>0.709336</td>\n",
       "      <td>0.799007</td>\n",
       "      <td>0.851891</td>\n",
       "      <td>0.537158</td>\n",
       "      <td>0.62393</td>\n",
       "      <td>0.70597</td>\n",
       "      <td>0.503437</td>\n",
       "      <td>0.633185</td>\n",
       "      <td>0.64155</td>\n",
       "      <td>0.666604</td>\n",
       "      <td>...</td>\n",
       "      <td>0.75025</td>\n",
       "      <td>0.66337</td>\n",
       "      <td>0.739333</td>\n",
       "      <td>0.822384</td>\n",
       "      <td>0.749498</td>\n",
       "      <td>0.7298</td>\n",
       "      <td>0.867847</td>\n",
       "      <td>0.745888</td>\n",
       "      <td>0.787</td>\n",
       "      <td>0.0</td>\n",
       "    </tr>\n",
       "  </tbody>\n",
       "</table>\n",
       "<p>1 rows × 5001 columns</p>\n",
       "</div>"
      ],
      "text/plain": [
       "   0.6222863195.csv  0.6223807245.csv  0.6225426578.csv  0.6247722291.csv  \\\n",
       "0          0.709336          0.799007          0.851891          0.537158   \n",
       "\n",
       "   0.6253455681.csv  0.6254850917.csv  0.6255093621.csv  0.6260141578.csv  \\\n",
       "0           0.62393           0.70597          0.503437          0.633185   \n",
       "\n",
       "   0.6263493693.csv  0.6272779211.csv  ...  0.7519556278.csv  \\\n",
       "0           0.64155          0.666604  ...           0.75025   \n",
       "\n",
       "   0.7520219713.csv  0.7521219579.csv  0.7522329272.csv  0.7523602310.csv  \\\n",
       "0           0.66337          0.739333          0.822384          0.749498   \n",
       "\n",
       "   0.7526089604.csv  0.7526999358.csv  0.7551167673.csv  0.7575039918.csv  \\\n",
       "0            0.7298          0.867847          0.745888             0.787   \n",
       "\n",
       "   label  \n",
       "0    0.0  \n",
       "\n",
       "[1 rows x 5001 columns]"
      ]
     },
     "execution_count": 5,
     "metadata": {},
     "output_type": "execute_result"
    }
   ],
   "source": [
    "X_train['label'] = labels['label']\n",
    "X_train.head(1)"
   ]
  },
  {
   "cell_type": "code",
   "execution_count": 6,
   "id": "5f4514a6",
   "metadata": {
    "execution": {
     "iopub.execute_input": "2022-11-19T02:46:07.897014Z",
     "iopub.status.busy": "2022-11-19T02:46:07.896585Z",
     "iopub.status.idle": "2022-11-19T02:46:07.904105Z",
     "shell.execute_reply": "2022-11-19T02:46:07.902945Z"
    },
    "papermill": {
     "duration": 0.01807,
     "end_time": "2022-11-19T02:46:07.906129",
     "exception": false,
     "start_time": "2022-11-19T02:46:07.888059",
     "status": "completed"
    },
    "tags": []
   },
   "outputs": [
    {
     "data": {
      "text/plain": [
       "20000"
      ]
     },
     "execution_count": 6,
     "metadata": {},
     "output_type": "execute_result"
    }
   ],
   "source": [
    "test = X_train[20000:]\n",
    "X_train = X_train[:20000]\n",
    "len(test)"
   ]
  },
  {
   "cell_type": "markdown",
   "id": "1a3eb6cf",
   "metadata": {
    "papermill": {
     "duration": 0.007182,
     "end_time": "2022-11-19T02:46:07.920712",
     "exception": false,
     "start_time": "2022-11-19T02:46:07.913530",
     "status": "completed"
    },
    "tags": []
   },
   "source": [
    "# Filtro "
   ]
  },
  {
   "cell_type": "code",
   "execution_count": 7,
   "id": "b1b7c9f4",
   "metadata": {
    "execution": {
     "iopub.execute_input": "2022-11-19T02:46:07.937704Z",
     "iopub.status.busy": "2022-11-19T02:46:07.936618Z",
     "iopub.status.idle": "2022-11-19T02:46:43.901198Z",
     "shell.execute_reply": "2022-11-19T02:46:43.899972Z"
    },
    "papermill": {
     "duration": 35.975183,
     "end_time": "2022-11-19T02:46:43.903453",
     "exception": false,
     "start_time": "2022-11-19T02:46:07.928270",
     "status": "completed"
    },
    "tags": []
   },
   "outputs": [],
   "source": [
    "from sklearn.metrics import roc_auc_score\n",
    "columns = []\n",
    "bad = []\n",
    "for i in range(0, len(X_train.columns)-1):\n",
    "    auc = roc_auc_score(X_train['label'], X_train[X_train.columns[i]])\n",
    "    if auc >= 0.78:\n",
    "        columns.append(X_train.columns[i])\n",
    "        \n",
    "train = X_train.filter(items=columns)"
   ]
  },
  {
   "cell_type": "code",
   "execution_count": 8,
   "id": "3c17c6b1",
   "metadata": {
    "execution": {
     "iopub.execute_input": "2022-11-19T02:46:43.919800Z",
     "iopub.status.busy": "2022-11-19T02:46:43.919483Z",
     "iopub.status.idle": "2022-11-19T02:46:44.183124Z",
     "shell.execute_reply": "2022-11-19T02:46:44.181661Z"
    },
    "papermill": {
     "duration": 0.274514,
     "end_time": "2022-11-19T02:46:44.185749",
     "exception": false,
     "start_time": "2022-11-19T02:46:43.911235",
     "status": "completed"
    },
    "tags": []
   },
   "outputs": [
    {
     "data": {
      "image/png": "[encoded data removed]",
      "text/plain": [
       "<Figure size 432x288 with 1 Axes>"
      ]
     },
     "metadata": {
      "needs_background": "light"
     },
     "output_type": "display_data"
    }
   ],
   "source": [
    "import matplotlib.pyplot as plt\n",
    "from sklearn.calibration import CalibrationDisplay #Para graficar si esta calibrado o no\n",
    "from sklearn.isotonic import IsotonicRegression\n",
    "from sklearn.calibration import CalibratedClassifierCV\n",
    "disp = CalibrationDisplay.from_predictions(X_train['label'], train['0.6426110725.csv'])\n",
    "plt.show()"
   ]
  },
  {
   "cell_type": "code",
   "execution_count": 9,
   "id": "e6b843a2",
   "metadata": {
    "execution": {
     "iopub.execute_input": "2022-11-19T02:46:44.203072Z",
     "iopub.status.busy": "2022-11-19T02:46:44.202665Z",
     "iopub.status.idle": "2022-11-19T02:46:44.664036Z",
     "shell.execute_reply": "2022-11-19T02:46:44.662712Z"
    },
    "papermill": {
     "duration": 0.473166,
     "end_time": "2022-11-19T02:46:44.666663",
     "exception": false,
     "start_time": "2022-11-19T02:46:44.193497",
     "status": "completed"
    },
    "tags": []
   },
   "outputs": [
    {
     "data": {
      "text/html": [
       "<div>\n",
       "<style scoped>\n",
       "    .dataframe tbody tr th:only-of-type {\n",
       "        vertical-align: middle;\n",
       "    }\n",
       "\n",
       "    .dataframe tbody tr th {\n",
       "        vertical-align: top;\n",
       "    }\n",
       "\n",
       "    .dataframe thead th {\n",
       "        text-align: right;\n",
       "    }\n",
       "</style>\n",
       "<table border=\"1\" class=\"dataframe\">\n",
       "  <thead>\n",
       "    <tr style=\"text-align: right;\">\n",
       "      <th></th>\n",
       "      <th>0.6225426578.csv</th>\n",
       "      <th>0.6294457895.csv</th>\n",
       "      <th>0.6404491258.csv</th>\n",
       "      <th>0.6407502338.csv</th>\n",
       "      <th>0.6426110725.csv</th>\n",
       "      <th>0.6453694232.csv</th>\n",
       "      <th>0.6454086279.csv</th>\n",
       "      <th>0.6454375051.csv</th>\n",
       "      <th>0.6460118158.csv</th>\n",
       "      <th>0.6464892546.csv</th>\n",
       "      <th>...</th>\n",
       "      <th>0.6969193975.csv</th>\n",
       "      <th>0.6975177755.csv</th>\n",
       "      <th>0.6996196858.csv</th>\n",
       "      <th>0.7002002165.csv</th>\n",
       "      <th>0.7028148087.csv</th>\n",
       "      <th>0.7033865713.csv</th>\n",
       "      <th>0.7051369296.csv</th>\n",
       "      <th>0.7079314921.csv</th>\n",
       "      <th>0.7160613710.csv</th>\n",
       "      <th>0.7164992684.csv</th>\n",
       "    </tr>\n",
       "  </thead>\n",
       "  <tbody>\n",
       "    <tr>\n",
       "      <th>20000</th>\n",
       "      <td>0.795757</td>\n",
       "      <td>0.794785</td>\n",
       "      <td>0.783486</td>\n",
       "      <td>0.787893</td>\n",
       "      <td>0.820141</td>\n",
       "      <td>0.832688</td>\n",
       "      <td>0.843260</td>\n",
       "      <td>0.826338</td>\n",
       "      <td>0.837845</td>\n",
       "      <td>0.796241</td>\n",
       "      <td>...</td>\n",
       "      <td>0.80056</td>\n",
       "      <td>0.848412</td>\n",
       "      <td>0.792710</td>\n",
       "      <td>0.829399</td>\n",
       "      <td>0.837234</td>\n",
       "      <td>0.901585</td>\n",
       "      <td>0.833992</td>\n",
       "      <td>0.817208</td>\n",
       "      <td>0.825587</td>\n",
       "      <td>0.852352</td>\n",
       "    </tr>\n",
       "    <tr>\n",
       "      <th>20001</th>\n",
       "      <td>0.842078</td>\n",
       "      <td>0.758897</td>\n",
       "      <td>0.763573</td>\n",
       "      <td>0.715719</td>\n",
       "      <td>0.852634</td>\n",
       "      <td>0.887907</td>\n",
       "      <td>0.861234</td>\n",
       "      <td>0.891609</td>\n",
       "      <td>0.850622</td>\n",
       "      <td>0.809581</td>\n",
       "      <td>...</td>\n",
       "      <td>0.77724</td>\n",
       "      <td>0.849418</td>\n",
       "      <td>0.832893</td>\n",
       "      <td>0.813959</td>\n",
       "      <td>0.723098</td>\n",
       "      <td>0.900543</td>\n",
       "      <td>0.814384</td>\n",
       "      <td>0.758742</td>\n",
       "      <td>0.815730</td>\n",
       "      <td>0.780966</td>\n",
       "    </tr>\n",
       "    <tr>\n",
       "      <th>20002</th>\n",
       "      <td>0.542698</td>\n",
       "      <td>0.588272</td>\n",
       "      <td>0.566542</td>\n",
       "      <td>0.421511</td>\n",
       "      <td>0.548017</td>\n",
       "      <td>0.497853</td>\n",
       "      <td>0.473092</td>\n",
       "      <td>0.507006</td>\n",
       "      <td>0.466100</td>\n",
       "      <td>0.543121</td>\n",
       "      <td>...</td>\n",
       "      <td>0.61149</td>\n",
       "      <td>0.601734</td>\n",
       "      <td>0.617050</td>\n",
       "      <td>0.634666</td>\n",
       "      <td>0.634573</td>\n",
       "      <td>0.418453</td>\n",
       "      <td>0.624151</td>\n",
       "      <td>0.631707</td>\n",
       "      <td>0.562517</td>\n",
       "      <td>0.551725</td>\n",
       "    </tr>\n",
       "    <tr>\n",
       "      <th>20003</th>\n",
       "      <td>0.591969</td>\n",
       "      <td>0.675415</td>\n",
       "      <td>0.627598</td>\n",
       "      <td>0.623674</td>\n",
       "      <td>0.611502</td>\n",
       "      <td>0.667465</td>\n",
       "      <td>0.601698</td>\n",
       "      <td>0.661131</td>\n",
       "      <td>0.554552</td>\n",
       "      <td>0.662555</td>\n",
       "      <td>...</td>\n",
       "      <td>0.59768</td>\n",
       "      <td>0.608732</td>\n",
       "      <td>0.708992</td>\n",
       "      <td>0.618968</td>\n",
       "      <td>0.668591</td>\n",
       "      <td>0.625794</td>\n",
       "      <td>0.645964</td>\n",
       "      <td>0.662762</td>\n",
       "      <td>0.708487</td>\n",
       "      <td>0.666050</td>\n",
       "    </tr>\n",
       "    <tr>\n",
       "      <th>20004</th>\n",
       "      <td>0.043050</td>\n",
       "      <td>0.210955</td>\n",
       "      <td>0.388847</td>\n",
       "      <td>0.208134</td>\n",
       "      <td>0.189660</td>\n",
       "      <td>0.189838</td>\n",
       "      <td>0.563306</td>\n",
       "      <td>0.153227</td>\n",
       "      <td>0.733446</td>\n",
       "      <td>0.492676</td>\n",
       "      <td>...</td>\n",
       "      <td>0.70112</td>\n",
       "      <td>0.750630</td>\n",
       "      <td>0.750585</td>\n",
       "      <td>0.721456</td>\n",
       "      <td>0.315084</td>\n",
       "      <td>0.716885</td>\n",
       "      <td>0.734520</td>\n",
       "      <td>0.693671</td>\n",
       "      <td>0.615438</td>\n",
       "      <td>0.176220</td>\n",
       "    </tr>\n",
       "    <tr>\n",
       "      <th>...</th>\n",
       "      <td>...</td>\n",
       "      <td>...</td>\n",
       "      <td>...</td>\n",
       "      <td>...</td>\n",
       "      <td>...</td>\n",
       "      <td>...</td>\n",
       "      <td>...</td>\n",
       "      <td>...</td>\n",
       "      <td>...</td>\n",
       "      <td>...</td>\n",
       "      <td>...</td>\n",
       "      <td>...</td>\n",
       "      <td>...</td>\n",
       "      <td>...</td>\n",
       "      <td>...</td>\n",
       "      <td>...</td>\n",
       "      <td>...</td>\n",
       "      <td>...</td>\n",
       "      <td>...</td>\n",
       "      <td>...</td>\n",
       "      <td>...</td>\n",
       "    </tr>\n",
       "    <tr>\n",
       "      <th>39995</th>\n",
       "      <td>0.483297</td>\n",
       "      <td>0.401280</td>\n",
       "      <td>0.447231</td>\n",
       "      <td>0.486676</td>\n",
       "      <td>0.419320</td>\n",
       "      <td>0.481173</td>\n",
       "      <td>0.589274</td>\n",
       "      <td>0.480533</td>\n",
       "      <td>0.537624</td>\n",
       "      <td>0.483769</td>\n",
       "      <td>...</td>\n",
       "      <td>0.49943</td>\n",
       "      <td>0.474724</td>\n",
       "      <td>0.589535</td>\n",
       "      <td>0.496561</td>\n",
       "      <td>0.508758</td>\n",
       "      <td>0.462045</td>\n",
       "      <td>0.565653</td>\n",
       "      <td>0.533173</td>\n",
       "      <td>0.498068</td>\n",
       "      <td>0.567969</td>\n",
       "    </tr>\n",
       "    <tr>\n",
       "      <th>39996</th>\n",
       "      <td>0.594827</td>\n",
       "      <td>0.573821</td>\n",
       "      <td>0.612897</td>\n",
       "      <td>0.580056</td>\n",
       "      <td>0.566908</td>\n",
       "      <td>0.577789</td>\n",
       "      <td>0.768477</td>\n",
       "      <td>0.559754</td>\n",
       "      <td>0.682243</td>\n",
       "      <td>0.644317</td>\n",
       "      <td>...</td>\n",
       "      <td>0.56857</td>\n",
       "      <td>0.610592</td>\n",
       "      <td>0.746561</td>\n",
       "      <td>0.612850</td>\n",
       "      <td>0.542002</td>\n",
       "      <td>0.657321</td>\n",
       "      <td>0.646697</td>\n",
       "      <td>0.577580</td>\n",
       "      <td>0.547230</td>\n",
       "      <td>0.598730</td>\n",
       "    </tr>\n",
       "    <tr>\n",
       "      <th>39997</th>\n",
       "      <td>0.760426</td>\n",
       "      <td>0.734550</td>\n",
       "      <td>0.707009</td>\n",
       "      <td>0.771873</td>\n",
       "      <td>0.774592</td>\n",
       "      <td>0.764246</td>\n",
       "      <td>0.766593</td>\n",
       "      <td>0.760474</td>\n",
       "      <td>0.757130</td>\n",
       "      <td>0.752734</td>\n",
       "      <td>...</td>\n",
       "      <td>0.75381</td>\n",
       "      <td>0.774321</td>\n",
       "      <td>0.782527</td>\n",
       "      <td>0.796487</td>\n",
       "      <td>0.685132</td>\n",
       "      <td>0.858230</td>\n",
       "      <td>0.806492</td>\n",
       "      <td>0.749391</td>\n",
       "      <td>0.757184</td>\n",
       "      <td>0.769139</td>\n",
       "    </tr>\n",
       "    <tr>\n",
       "      <th>39998</th>\n",
       "      <td>0.807093</td>\n",
       "      <td>0.837783</td>\n",
       "      <td>0.800612</td>\n",
       "      <td>0.720346</td>\n",
       "      <td>0.684314</td>\n",
       "      <td>0.734020</td>\n",
       "      <td>0.650269</td>\n",
       "      <td>0.727397</td>\n",
       "      <td>0.668914</td>\n",
       "      <td>0.815538</td>\n",
       "      <td>...</td>\n",
       "      <td>0.71777</td>\n",
       "      <td>0.761883</td>\n",
       "      <td>0.742271</td>\n",
       "      <td>0.739249</td>\n",
       "      <td>0.714672</td>\n",
       "      <td>0.748554</td>\n",
       "      <td>0.742975</td>\n",
       "      <td>0.712589</td>\n",
       "      <td>0.805455</td>\n",
       "      <td>0.687243</td>\n",
       "    </tr>\n",
       "    <tr>\n",
       "      <th>39999</th>\n",
       "      <td>0.606541</td>\n",
       "      <td>0.608606</td>\n",
       "      <td>0.603486</td>\n",
       "      <td>0.628888</td>\n",
       "      <td>0.585947</td>\n",
       "      <td>0.635905</td>\n",
       "      <td>0.605641</td>\n",
       "      <td>0.639873</td>\n",
       "      <td>0.651310</td>\n",
       "      <td>0.575654</td>\n",
       "      <td>...</td>\n",
       "      <td>0.63008</td>\n",
       "      <td>0.648834</td>\n",
       "      <td>0.649264</td>\n",
       "      <td>0.599579</td>\n",
       "      <td>0.655618</td>\n",
       "      <td>0.630412</td>\n",
       "      <td>0.666357</td>\n",
       "      <td>0.646540</td>\n",
       "      <td>0.649243</td>\n",
       "      <td>0.618504</td>\n",
       "    </tr>\n",
       "  </tbody>\n",
       "</table>\n",
       "<p>20000 rows × 537 columns</p>\n",
       "</div>"
      ],
      "text/plain": [
       "       0.6225426578.csv  0.6294457895.csv  0.6404491258.csv  0.6407502338.csv  \\\n",
       "20000          0.795757          0.794785          0.783486          0.787893   \n",
       "20001          0.842078          0.758897          0.763573          0.715719   \n",
       "20002          0.542698          0.588272          0.566542          0.421511   \n",
       "20003          0.591969          0.675415          0.627598          0.623674   \n",
       "20004          0.043050          0.210955          0.388847          0.208134   \n",
       "...                 ...               ...               ...               ...   \n",
       "39995          0.483297          0.401280          0.447231          0.486676   \n",
       "39996          0.594827          0.573821          0.612897          0.580056   \n",
       "39997          0.760426          0.734550          0.707009          0.771873   \n",
       "39998          0.807093          0.837783          0.800612          0.720346   \n",
       "39999          0.606541          0.608606          0.603486          0.628888   \n",
       "\n",
       "       0.6426110725.csv  0.6453694232.csv  0.6454086279.csv  0.6454375051.csv  \\\n",
       "20000          0.820141          0.832688          0.843260          0.826338   \n",
       "20001          0.852634          0.887907          0.861234          0.891609   \n",
       "20002          0.548017          0.497853          0.473092          0.507006   \n",
       "20003          0.611502          0.667465          0.601698          0.661131   \n",
       "20004          0.189660          0.189838          0.563306          0.153227   \n",
       "...                 ...               ...               ...               ...   \n",
       "39995          0.419320          0.481173          0.589274          0.480533   \n",
       "39996          0.566908          0.577789          0.768477          0.559754   \n",
       "39997          0.774592          0.764246          0.766593          0.760474   \n",
       "39998          0.684314          0.734020          0.650269          0.727397   \n",
       "39999          0.585947          0.635905          0.605641          0.639873   \n",
       "\n",
       "       0.6460118158.csv  0.6464892546.csv  ...  0.6969193975.csv  \\\n",
       "20000          0.837845          0.796241  ...           0.80056   \n",
       "20001          0.850622          0.809581  ...           0.77724   \n",
       "20002          0.466100          0.543121  ...           0.61149   \n",
       "20003          0.554552          0.662555  ...           0.59768   \n",
       "20004          0.733446          0.492676  ...           0.70112   \n",
       "...                 ...               ...  ...               ...   \n",
       "39995          0.537624          0.483769  ...           0.49943   \n",
       "39996          0.682243          0.644317  ...           0.56857   \n",
       "39997          0.757130          0.752734  ...           0.75381   \n",
       "39998          0.668914          0.815538  ...           0.71777   \n",
       "39999          0.651310          0.575654  ...           0.63008   \n",
       "\n",
       "       0.6975177755.csv  0.6996196858.csv  0.7002002165.csv  0.7028148087.csv  \\\n",
       "20000          0.848412          0.792710          0.829399          0.837234   \n",
       "20001          0.849418          0.832893          0.813959          0.723098   \n",
       "20002          0.601734          0.617050          0.634666          0.634573   \n",
       "20003          0.608732          0.708992          0.618968          0.668591   \n",
       "20004          0.750630          0.750585          0.721456          0.315084   \n",
       "...                 ...               ...               ...               ...   \n",
       "39995          0.474724          0.589535          0.496561          0.508758   \n",
       "39996          0.610592          0.746561          0.612850          0.542002   \n",
       "39997          0.774321          0.782527          0.796487          0.685132   \n",
       "39998          0.761883          0.742271          0.739249          0.714672   \n",
       "39999          0.648834          0.649264          0.599579          0.655618   \n",
       "\n",
       "       0.7033865713.csv  0.7051369296.csv  0.7079314921.csv  0.7160613710.csv  \\\n",
       "20000          0.901585          0.833992          0.817208          0.825587   \n",
       "20001          0.900543          0.814384          0.758742          0.815730   \n",
       "20002          0.418453          0.624151          0.631707          0.562517   \n",
       "20003          0.625794          0.645964          0.662762          0.708487   \n",
       "20004          0.716885          0.734520          0.693671          0.615438   \n",
       "...                 ...               ...               ...               ...   \n",
       "39995          0.462045          0.565653          0.533173          0.498068   \n",
       "39996          0.657321          0.646697          0.577580          0.547230   \n",
       "39997          0.858230          0.806492          0.749391          0.757184   \n",
       "39998          0.748554          0.742975          0.712589          0.805455   \n",
       "39999          0.630412          0.666357          0.646540          0.649243   \n",
       "\n",
       "       0.7164992684.csv  \n",
       "20000          0.852352  \n",
       "20001          0.780966  \n",
       "20002          0.551725  \n",
       "20003          0.666050  \n",
       "20004          0.176220  \n",
       "...                 ...  \n",
       "39995          0.567969  \n",
       "39996          0.598730  \n",
       "39997          0.769139  \n",
       "39998          0.687243  \n",
       "39999          0.618504  \n",
       "\n",
       "[20000 rows x 537 columns]"
      ]
     },
     "execution_count": 9,
     "metadata": {},
     "output_type": "execute_result"
    }
   ],
   "source": [
    "test = test.filter(items=columns)\n",
    "test"
   ]
  },
  {
   "cell_type": "code",
   "execution_count": 10,
   "id": "3e20903f",
   "metadata": {
    "execution": {
     "iopub.execute_input": "2022-11-19T02:46:44.684443Z",
     "iopub.status.busy": "2022-11-19T02:46:44.684069Z",
     "iopub.status.idle": "2022-11-19T02:46:48.347551Z",
     "shell.execute_reply": "2022-11-19T02:46:48.346679Z"
    },
    "papermill": {
     "duration": 3.676509,
     "end_time": "2022-11-19T02:46:48.351319",
     "exception": false,
     "start_time": "2022-11-19T02:46:44.674810",
     "status": "completed"
    },
    "tags": []
   },
   "outputs": [
    {
     "data": {
      "image/png": "[encoded data removed]",
      "text/plain": [
       "<Figure size 432x288 with 1 Axes>"
      ]
     },
     "metadata": {
      "needs_background": "light"
     },
     "output_type": "display_data"
    }
   ],
   "source": [
    "for i in range(0, len(train.columns)-1):\n",
    "    x_model_calibration = np.zeros(40000)\n",
    "    model_calibration = IsotonicRegression(out_of_bounds='clip')\n",
    "    x_model_calibration[:20000] = model_calibration.fit_transform(train[train.columns[i]], X_train['label'])\n",
    "    x_model_calibration[20000:] = model_calibration.transform(test[test.columns[i]])\n",
    "    train[train.columns[i]] = x_model_calibration[:20000]\n",
    "    test[test.columns[i]] = x_model_calibration[20000:]\n",
    "\n",
    "disp = CalibrationDisplay.from_predictions(X_train['label'], train['0.6426110725.csv'])\n",
    "plt.show()"
   ]
  },
  {
   "cell_type": "code",
   "execution_count": 11,
   "id": "76292844",
   "metadata": {
    "execution": {
     "iopub.execute_input": "2022-11-19T02:46:48.374401Z",
     "iopub.status.busy": "2022-11-19T02:46:48.374057Z",
     "iopub.status.idle": "2022-11-19T02:46:48.378546Z",
     "shell.execute_reply": "2022-11-19T02:46:48.377889Z"
    },
    "papermill": {
     "duration": 0.018133,
     "end_time": "2022-11-19T02:46:48.380671",
     "exception": false,
     "start_time": "2022-11-19T02:46:48.362538",
     "status": "completed"
    },
    "tags": []
   },
   "outputs": [],
   "source": [
    "train['label'] = X_train['label']"
   ]
  },
  {
   "cell_type": "code",
   "execution_count": 12,
   "id": "88e2967a",
   "metadata": {
    "execution": {
     "iopub.execute_input": "2022-11-19T02:46:48.402365Z",
     "iopub.status.busy": "2022-11-19T02:46:48.401544Z",
     "iopub.status.idle": "2022-11-19T02:46:48.473087Z",
     "shell.execute_reply": "2022-11-19T02:46:48.471620Z"
    },
    "papermill": {
     "duration": 0.08489,
     "end_time": "2022-11-19T02:46:48.475509",
     "exception": false,
     "start_time": "2022-11-19T02:46:48.390619",
     "status": "completed"
    },
    "tags": []
   },
   "outputs": [
    {
     "data": {
      "text/plain": [
       "array([[0.7151277 , 0.62962963, 0.57042254, ..., 0.54732143, 0.47660819,\n",
       "        0.927354  ],\n",
       "       [0.3401421 , 0.48513011, 0.35042735, ..., 0.47853736, 0.4       ,\n",
       "        0.787957  ],\n",
       "       [0.60917031, 0.60194175, 0.58409786, ..., 0.54732143, 0.47660819,\n",
       "        0.862402  ],\n",
       "       ...,\n",
       "       [0.78078078, 0.81873112, 0.90310078, ..., 0.82396088, 0.86332574,\n",
       "        0.929273  ],\n",
       "       [0.46960486, 0.48513011, 0.47886029, ..., 0.51569038, 0.47660819,\n",
       "        0.771653  ],\n",
       "       [1.        , 0.97885196, 0.90310078, ..., 0.91346154, 0.94805195,\n",
       "        0.983335  ]])"
      ]
     },
     "execution_count": 12,
     "metadata": {},
     "output_type": "execute_result"
    }
   ],
   "source": [
    "Features = np.array(train[train.columns[:-1]])\n",
    "Features"
   ]
  },
  {
   "cell_type": "markdown",
   "id": "b7e1a541",
   "metadata": {
    "papermill": {
     "duration": 0.009113,
     "end_time": "2022-11-19T02:46:48.494244",
     "exception": false,
     "start_time": "2022-11-19T02:46:48.485131",
     "status": "completed"
    },
    "tags": []
   },
   "source": [
    "# Final training - test"
   ]
  },
  {
   "cell_type": "code",
   "execution_count": 13,
   "id": "1a6dd481",
   "metadata": {
    "execution": {
     "iopub.execute_input": "2022-11-19T02:46:48.515279Z",
     "iopub.status.busy": "2022-11-19T02:46:48.514874Z",
     "iopub.status.idle": "2022-11-19T02:46:50.156543Z",
     "shell.execute_reply": "2022-11-19T02:46:50.155439Z"
    },
    "papermill": {
     "duration": 1.655225,
     "end_time": "2022-11-19T02:46:50.159138",
     "exception": false,
     "start_time": "2022-11-19T02:46:48.503913",
     "status": "completed"
    },
    "tags": []
   },
   "outputs": [
    {
     "data": {
      "text/html": [
       "<style type='text/css'>\n",
       ".datatable table.frame { margin-bottom: 0; }\n",
       ".datatable table.frame thead { border-bottom: none; }\n",
       ".datatable table.frame tr.coltypes td {  color: #FFFFFF;  line-height: 6px;  padding: 0 0.5em;}\n",
       ".datatable .bool    { background: #DDDD99; }\n",
       ".datatable .object  { background: #565656; }\n",
       ".datatable .int     { background: #5D9E5D; }\n",
       ".datatable .float   { background: #4040CC; }\n",
       ".datatable .str     { background: #CC4040; }\n",
       ".datatable .time    { background: #40CC40; }\n",
       ".datatable .row_index {  background: var(--jp-border-color3);  border-right: 1px solid var(--jp-border-color0);  color: var(--jp-ui-font-color3);  font-size: 9px;}\n",
       ".datatable .frame tbody td { text-align: left; }\n",
       ".datatable .frame tr.coltypes .row_index {  background: var(--jp-border-color0);}\n",
       ".datatable th:nth-child(2) { padding-left: 12px; }\n",
       ".datatable .hellipsis {  color: var(--jp-cell-editor-border-color);}\n",
       ".datatable .vellipsis {  background: var(--jp-layout-color0);  color: var(--jp-cell-editor-border-color);}\n",
       ".datatable .na {  color: var(--jp-cell-editor-border-color);  font-size: 80%;}\n",
       ".datatable .sp {  opacity: 0.25;}\n",
       ".datatable .footer { font-size: 9px; }\n",
       ".datatable .frame_dimensions {  background: var(--jp-border-color3);  border-top: 1px solid var(--jp-border-color0);  color: var(--jp-ui-font-color3);  display: inline-block;  opacity: 0.6;  padding: 1px 10px 1px 5px;}\n",
       "</style>\n"
      ],
      "text/plain": [
       "<IPython.core.display.HTML object>"
      ]
     },
     "metadata": {},
     "output_type": "display_data"
    }
   ],
   "source": [
    "from sklearn.ensemble import GradientBoostingClassifier\n",
    "from sklearn.ensemble import RandomForestClassifier\n",
    "from sklearn.ensemble import HistGradientBoostingClassifier\n",
    "import lightgbm as lgb \n",
    "from xgboost import XGBClassifier\n",
    "from sklearn.ensemble import ExtraTreesClassifier\n",
    "from sklearn.neighbors import KNeighborsClassifier\n",
    "from sklearn.neural_network import MLPClassifier\n",
    "from sklearn.ensemble import AdaBoostClassifier\n",
    "from catboost import CatBoostClassifier\n",
    "\n",
    "from sklearn.ensemble import VotingClassifier #Para combinar todos estos modelos\n",
    "\n",
    "from sklearn.model_selection import train_test_split\n",
    "from sklearn import preprocessing\n",
    "import numpy as np\n",
    "Features = np.array(train[train.columns[:-1]])\n",
    "from sklearn.preprocessing import StandardScaler\n",
    "scaler = StandardScaler()\n",
    "X_Train, X_test, y_train, y_test = train_test_split(Features, train['label'], test_size=0.20)\n",
    "#scaler.fit(X_Train)\n",
    "#X_Train = scaler.transform(X_Train)\n",
    "#X_test = scaler.transform(X_test)"
   ]
  },
  {
   "cell_type": "code",
   "execution_count": 14,
   "id": "7db617d9",
   "metadata": {
    "execution": {
     "iopub.execute_input": "2022-11-19T02:46:50.182045Z",
     "iopub.status.busy": "2022-11-19T02:46:50.181633Z",
     "iopub.status.idle": "2022-11-19T02:46:50.187665Z",
     "shell.execute_reply": "2022-11-19T02:46:50.186804Z"
    },
    "papermill": {
     "duration": 0.019748,
     "end_time": "2022-11-19T02:46:50.189769",
     "exception": false,
     "start_time": "2022-11-19T02:46:50.170021",
     "status": "completed"
    },
    "tags": []
   },
   "outputs": [],
   "source": [
    "RF = RandomForestClassifier(max_depth=10, criterion='entropy', n_estimators=135, \n",
    "                                 max_features='sqrt')\n",
    "\n",
    "xgb = XGBClassifier( booster = 'gbtree', eta = 0.10125618161723826, gamma = 8.09559100935248, max_depth = 5)\n",
    "\n",
    "lgbm = lgb.LGBMClassifier( boosting_type = 'dart', learning_rate = 0.05485316689256563, \n",
    "                        n_estimators = 532, max_depth = 3)\n",
    "\n",
    "hist = HistGradientBoostingClassifier(learning_rate = 0.10738488344314048, \n",
    "                        max_iter = 189, max_depth = 4)"
   ]
  },
  {
   "cell_type": "code",
   "execution_count": 15,
   "id": "0c137b1e",
   "metadata": {
    "execution": {
     "iopub.execute_input": "2022-11-19T02:46:50.211989Z",
     "iopub.status.busy": "2022-11-19T02:46:50.211384Z",
     "iopub.status.idle": "2022-11-19T02:47:31.864776Z",
     "shell.execute_reply": "2022-11-19T02:47:31.863474Z"
    },
    "papermill": {
     "duration": 41.677784,
     "end_time": "2022-11-19T02:47:31.877768",
     "exception": false,
     "start_time": "2022-11-19T02:46:50.199984",
     "status": "completed"
    },
    "tags": []
   },
   "outputs": [
    {
     "data": {
      "text/plain": [
       "HistGradientBoostingClassifier(learning_rate=0.10738488344314048, max_depth=4,\n",
       "                               max_iter=189)"
      ]
     },
     "execution_count": 15,
     "metadata": {},
     "output_type": "execute_result"
    }
   ],
   "source": [
    "from sklearn.metrics import log_loss\n",
    "from sklearn.metrics import mean_squared_error\n",
    "RF.fit(X_Train, y_train)\n",
    "xgb.fit(X_Train, y_train)\n",
    "lgbm.fit(X_Train, y_train)\n",
    "hist.fit(X_Train, y_train)"
   ]
  },
  {
   "cell_type": "code",
   "execution_count": 16,
   "id": "dd63e9e4",
   "metadata": {
    "execution": {
     "iopub.execute_input": "2022-11-19T02:47:31.897743Z",
     "iopub.status.busy": "2022-11-19T02:47:31.896985Z",
     "iopub.status.idle": "2022-11-19T02:47:32.644141Z",
     "shell.execute_reply": "2022-11-19T02:47:32.642613Z"
    },
    "papermill": {
     "duration": 0.760132,
     "end_time": "2022-11-19T02:47:32.646369",
     "exception": false,
     "start_time": "2022-11-19T02:47:31.886237",
     "status": "completed"
    },
    "tags": []
   },
   "outputs": [
    {
     "name": "stdout",
     "output_type": "stream",
     "text": [
      "RF 0.4389525957138409 0.8825203759964536 0.14455298537502792\n",
      "XGB 0.49768504058825785 0.8305612881320166 0.1679321528995698\n",
      "LGBM 0.4942662323272886 0.8342185429068554 0.1664909225268171\n",
      "Hist 0.5017341621852033 0.8242192529851416 0.17037748535853445\n"
     ]
    }
   ],
   "source": [
    "#Performance con el training set\n",
    "RFout = RF.predict_proba(X_Train)\n",
    "xgbout = xgb.predict_proba(X_Train)\n",
    "lgbmout = lgbm.predict_proba(X_Train)\n",
    "histout = hist.predict_proba(X_Train)\n",
    "loss2 = log_loss(y_train, RFout)\n",
    "auc2 = roc_auc_score(y_train, RFout[:,1])\n",
    "RMSE2 = mean_squared_error(y_train, RFout[:,1])\n",
    "loss3 = log_loss(y_train, xgbout)\n",
    "auc3 = roc_auc_score(y_train, xgbout[:,1])\n",
    "RMSE3 = mean_squared_error(y_train, xgbout[:,1])\n",
    "loss4 = log_loss(y_train, lgbmout)\n",
    "auc4 = roc_auc_score(y_train, lgbmout[:,1])\n",
    "RMSE4 = mean_squared_error(y_train, lgbmout[:,1])\n",
    "loss5 = log_loss(y_train, histout)\n",
    "auc5 = roc_auc_score(y_train, histout[:,1])\n",
    "RMSE5 = mean_squared_error(y_train, histout[:,1])\n",
    "print('RF',loss2, auc2, RMSE2)\n",
    "print('XGB',loss3, auc3, RMSE3)\n",
    "print('LGBM',loss4, auc4, RMSE4)\n",
    "print('Hist',loss5, auc5, RMSE5)"
   ]
  },
  {
   "cell_type": "code",
   "execution_count": 17,
   "id": "70cd72d8",
   "metadata": {
    "execution": {
     "iopub.execute_input": "2022-11-19T02:47:32.666895Z",
     "iopub.status.busy": "2022-11-19T02:47:32.665881Z",
     "iopub.status.idle": "2022-11-19T02:47:32.853100Z",
     "shell.execute_reply": "2022-11-19T02:47:32.852193Z"
    },
    "papermill": {
     "duration": 0.199675,
     "end_time": "2022-11-19T02:47:32.855159",
     "exception": false,
     "start_time": "2022-11-19T02:47:32.655484",
     "status": "completed"
    },
    "tags": []
   },
   "outputs": [
    {
     "name": "stdout",
     "output_type": "stream",
     "text": [
      "RF 0.523491714898801 0.8095365224255586 0.1777874396561684\n",
      "XGB 0.523289827294182 0.8097786996261406 0.17777761062994457\n",
      "LGBM 0.5231823585578426 0.8094146824999298 0.17792568793997623\n",
      "Hist 0.5227501324935093 0.8111970766431985 0.177320389234367\n"
     ]
    }
   ],
   "source": [
    "#Performance con el test set\n",
    "RFout2 = RF.predict_proba(X_test)\n",
    "xgbout2 = xgb.predict_proba(X_test)\n",
    "lgbmout2 = lgbm.predict_proba(X_test)\n",
    "histout2 = hist.predict_proba(X_test)\n",
    "loss2 = log_loss(y_test, RFout2)\n",
    "auc2 = roc_auc_score(y_test, RFout2[:,1])\n",
    "RMSE2 = mean_squared_error(y_test, RFout2[:,1])\n",
    "loss3 = log_loss(y_test, xgbout2)\n",
    "auc3 = roc_auc_score(y_test, xgbout2[:,1])\n",
    "RMSE3 = mean_squared_error(y_test, xgbout2[:,1])\n",
    "loss4 = log_loss(y_test, lgbmout2)\n",
    "auc4 = roc_auc_score(y_test, lgbmout2[:,1])\n",
    "RMSE4 = mean_squared_error(y_test, lgbmout2[:,1])\n",
    "loss5 = log_loss(y_test, histout2)\n",
    "auc5 = roc_auc_score(y_test, histout2[:,1])\n",
    "RMSE5 = mean_squared_error(y_test, histout2[:,1])\n",
    "print('RF',loss2, auc2, RMSE2)\n",
    "print('XGB',loss3, auc3, RMSE3)\n",
    "print('LGBM',loss4, auc4, RMSE4)\n",
    "print('Hist',loss5, auc5, RMSE5)"
   ]
  },
  {
   "cell_type": "code",
   "execution_count": 18,
   "id": "a075de98",
   "metadata": {
    "execution": {
     "iopub.execute_input": "2022-11-19T02:47:32.874250Z",
     "iopub.status.busy": "2022-11-19T02:47:32.873712Z",
     "iopub.status.idle": "2022-11-19T02:47:32.887921Z",
     "shell.execute_reply": "2022-11-19T02:47:32.886983Z"
    },
    "papermill": {
     "duration": 0.026268,
     "end_time": "2022-11-19T02:47:32.890061",
     "exception": false,
     "start_time": "2022-11-19T02:47:32.863793",
     "status": "completed"
    },
    "tags": []
   },
   "outputs": [
    {
     "data": {
      "text/html": [
       "<div>\n",
       "<style scoped>\n",
       "    .dataframe tbody tr th:only-of-type {\n",
       "        vertical-align: middle;\n",
       "    }\n",
       "\n",
       "    .dataframe tbody tr th {\n",
       "        vertical-align: top;\n",
       "    }\n",
       "\n",
       "    .dataframe thead th {\n",
       "        text-align: right;\n",
       "    }\n",
       "</style>\n",
       "<table border=\"1\" class=\"dataframe\">\n",
       "  <thead>\n",
       "    <tr style=\"text-align: right;\">\n",
       "      <th></th>\n",
       "      <th>RF</th>\n",
       "      <th>XGB</th>\n",
       "      <th>LGBM</th>\n",
       "      <th>HIST</th>\n",
       "      <th>label</th>\n",
       "    </tr>\n",
       "  </thead>\n",
       "  <tbody>\n",
       "    <tr>\n",
       "      <th>439</th>\n",
       "      <td>0.204914</td>\n",
       "      <td>0.201969</td>\n",
       "      <td>0.229654</td>\n",
       "      <td>0.258677</td>\n",
       "      <td>0.0</td>\n",
       "    </tr>\n",
       "    <tr>\n",
       "      <th>17058</th>\n",
       "      <td>0.278051</td>\n",
       "      <td>0.272690</td>\n",
       "      <td>0.263999</td>\n",
       "      <td>0.259431</td>\n",
       "      <td>0.0</td>\n",
       "    </tr>\n",
       "  </tbody>\n",
       "</table>\n",
       "</div>"
      ],
      "text/plain": [
       "             RF       XGB      LGBM      HIST  label\n",
       "439    0.204914  0.201969  0.229654  0.258677    0.0\n",
       "17058  0.278051  0.272690  0.263999  0.259431    0.0"
      ]
     },
     "execution_count": 18,
     "metadata": {},
     "output_type": "execute_result"
    }
   ],
   "source": [
    "d = {'RF': RFout2[:,1], 'XGB': xgbout2[:,1], 'LGBM': lgbmout2[:,1], 'HIST': histout2[:,1],'label': y_test}\n",
    "data2 = pd.DataFrame(d)\n",
    "data2.head(2)"
   ]
  },
  {
   "cell_type": "code",
   "execution_count": 19,
   "id": "cac793dc",
   "metadata": {
    "execution": {
     "iopub.execute_input": "2022-11-19T02:47:32.908850Z",
     "iopub.status.busy": "2022-11-19T02:47:32.908466Z",
     "iopub.status.idle": "2022-11-19T02:48:16.065318Z",
     "shell.execute_reply": "2022-11-19T02:48:16.063774Z"
    },
    "papermill": {
     "duration": 43.169665,
     "end_time": "2022-11-19T02:48:16.068409",
     "exception": false,
     "start_time": "2022-11-19T02:47:32.898744",
     "status": "completed"
    },
    "tags": []
   },
   "outputs": [],
   "source": [
    "eclf1 = VotingClassifier(estimators=[('Hist', hist), ('XGB', xgb), ('LGBM', lgbm), ('RF', RF)], voting='soft')\n",
    "eclf1 = eclf1.fit(X_Train, y_train)"
   ]
  },
  {
   "cell_type": "code",
   "execution_count": 20,
   "id": "c342ad77",
   "metadata": {
    "execution": {
     "iopub.execute_input": "2022-11-19T02:48:16.089249Z",
     "iopub.status.busy": "2022-11-19T02:48:16.088835Z",
     "iopub.status.idle": "2022-11-19T02:48:17.139563Z",
     "shell.execute_reply": "2022-11-19T02:48:17.137768Z"
    },
    "papermill": {
     "duration": 1.064876,
     "end_time": "2022-11-19T02:48:17.142798",
     "exception": false,
     "start_time": "2022-11-19T02:48:16.077922",
     "status": "completed"
    },
    "tags": []
   },
   "outputs": [],
   "source": [
    "y_score_final2 = eclf1.predict_proba(X_test)\n",
    "y_score_final3 = eclf1.predict_proba(X_Train)\n",
    "data2['Voting'] = y_score_final2[:, 1]"
   ]
  },
  {
   "cell_type": "code",
   "execution_count": 21,
   "id": "5babe5da",
   "metadata": {
    "execution": {
     "iopub.execute_input": "2022-11-19T02:48:17.164597Z",
     "iopub.status.busy": "2022-11-19T02:48:17.163055Z",
     "iopub.status.idle": "2022-11-19T02:48:17.181547Z",
     "shell.execute_reply": "2022-11-19T02:48:17.179844Z"
    },
    "papermill": {
     "duration": 0.032014,
     "end_time": "2022-11-19T02:48:17.184220",
     "exception": false,
     "start_time": "2022-11-19T02:48:17.152206",
     "status": "completed"
    },
    "tags": []
   },
   "outputs": [
    {
     "name": "stdout",
     "output_type": "stream",
     "text": [
      "Vot 0.47944652477052296 0.8449404203063389\n"
     ]
    }
   ],
   "source": [
    "#For training set\n",
    "loss = log_loss(y_train, y_score_final3[:,1])\n",
    "auc = roc_auc_score( y_train, y_score_final3[:,1])\n",
    "print('Vot',loss, auc) #0.5147512576097621 0.8152999222657191"
   ]
  },
  {
   "cell_type": "code",
   "execution_count": 22,
   "id": "142eea87",
   "metadata": {
    "execution": {
     "iopub.execute_input": "2022-11-19T02:48:17.205978Z",
     "iopub.status.busy": "2022-11-19T02:48:17.204781Z",
     "iopub.status.idle": "2022-11-19T02:48:17.219333Z",
     "shell.execute_reply": "2022-11-19T02:48:17.218529Z"
    },
    "papermill": {
     "duration": 0.028408,
     "end_time": "2022-11-19T02:48:17.221778",
     "exception": false,
     "start_time": "2022-11-19T02:48:17.193370",
     "status": "completed"
    },
    "tags": []
   },
   "outputs": [
    {
     "name": "stdout",
     "output_type": "stream",
     "text": [
      "Vot 0.5293786237384251 0.8111183127036091\n"
     ]
    }
   ],
   "source": [
    "#For testing set\n",
    "loss = log_loss(data2['label'], 0.7*data2['Voting'] + 0.20*data2['HIST'] + 0.05*data2['XGB'])\n",
    "auc = roc_auc_score(data2['label'], 0.5*data2['Voting'] + 0.5*data2['HIST'])\n",
    "print('Vot',loss, auc)\n",
    "#Solo Vot y Hist - 80-20\n",
    "#0.5059376416350578 - 80-10-10\n",
    "#0.5059527940173068 - 70-15-15\n",
    "#0.5059353328851255 - 100-0-0\n",
    "#0.5064740129035157 - 33-33-33\n",
    "#0.5060113590153529 - 50-25-25\n",
    "#0.5062011097467499 - 50-40-10\n",
    "#0.5060654966615944 - 50-30-20\n",
    "#0.5059662013200614 - 50-20-30\n",
    "#0.5059354206336484 - 60-15-25\n",
    "#0.5059023474310624 - 60-10-30\n",
    "#0.505884127135133 - 70-5-25\n",
    "#0.5058629502215635 - 70-0-30\n",
    "#0.5061226518118392 - 70-30-0\n",
    "#0.5060354404911177 - 80-20-0\n",
    "#0.5058752251309158 - 80-0-20"
   ]
  },
  {
   "cell_type": "code",
   "execution_count": 23,
   "id": "a9e95819",
   "metadata": {
    "execution": {
     "iopub.execute_input": "2022-11-19T02:48:17.244068Z",
     "iopub.status.busy": "2022-11-19T02:48:17.243435Z",
     "iopub.status.idle": "2022-11-19T02:48:17.259142Z",
     "shell.execute_reply": "2022-11-19T02:48:17.257875Z"
    },
    "papermill": {
     "duration": 0.029422,
     "end_time": "2022-11-19T02:48:17.261227",
     "exception": false,
     "start_time": "2022-11-19T02:48:17.231805",
     "status": "completed"
    },
    "tags": []
   },
   "outputs": [
    {
     "data": {
      "text/html": [
       "<div>\n",
       "<style scoped>\n",
       "    .dataframe tbody tr th:only-of-type {\n",
       "        vertical-align: middle;\n",
       "    }\n",
       "\n",
       "    .dataframe tbody tr th {\n",
       "        vertical-align: top;\n",
       "    }\n",
       "\n",
       "    .dataframe thead th {\n",
       "        text-align: right;\n",
       "    }\n",
       "</style>\n",
       "<table border=\"1\" class=\"dataframe\">\n",
       "  <thead>\n",
       "    <tr style=\"text-align: right;\">\n",
       "      <th></th>\n",
       "      <th>RF</th>\n",
       "      <th>XGB</th>\n",
       "      <th>LGBM</th>\n",
       "      <th>HIST</th>\n",
       "      <th>label</th>\n",
       "      <th>Voting</th>\n",
       "    </tr>\n",
       "  </thead>\n",
       "  <tbody>\n",
       "    <tr>\n",
       "      <th>RF</th>\n",
       "      <td>1.000000</td>\n",
       "      <td>0.992329</td>\n",
       "      <td>0.991971</td>\n",
       "      <td>0.991942</td>\n",
       "      <td>0.537855</td>\n",
       "      <td>0.995624</td>\n",
       "    </tr>\n",
       "    <tr>\n",
       "      <th>XGB</th>\n",
       "      <td>0.992329</td>\n",
       "      <td>1.000000</td>\n",
       "      <td>0.996712</td>\n",
       "      <td>0.995200</td>\n",
       "      <td>0.537977</td>\n",
       "      <td>0.998278</td>\n",
       "    </tr>\n",
       "    <tr>\n",
       "      <th>LGBM</th>\n",
       "      <td>0.991971</td>\n",
       "      <td>0.996712</td>\n",
       "      <td>1.000000</td>\n",
       "      <td>0.994994</td>\n",
       "      <td>0.537425</td>\n",
       "      <td>0.998232</td>\n",
       "    </tr>\n",
       "    <tr>\n",
       "      <th>HIST</th>\n",
       "      <td>0.991942</td>\n",
       "      <td>0.995200</td>\n",
       "      <td>0.994994</td>\n",
       "      <td>1.000000</td>\n",
       "      <td>0.539706</td>\n",
       "      <td>0.996387</td>\n",
       "    </tr>\n",
       "    <tr>\n",
       "      <th>label</th>\n",
       "      <td>0.537855</td>\n",
       "      <td>0.537977</td>\n",
       "      <td>0.537425</td>\n",
       "      <td>0.539706</td>\n",
       "      <td>1.000000</td>\n",
       "      <td>0.538933</td>\n",
       "    </tr>\n",
       "    <tr>\n",
       "      <th>Voting</th>\n",
       "      <td>0.995624</td>\n",
       "      <td>0.998278</td>\n",
       "      <td>0.998232</td>\n",
       "      <td>0.996387</td>\n",
       "      <td>0.538933</td>\n",
       "      <td>1.000000</td>\n",
       "    </tr>\n",
       "  </tbody>\n",
       "</table>\n",
       "</div>"
      ],
      "text/plain": [
       "              RF       XGB      LGBM      HIST     label    Voting\n",
       "RF      1.000000  0.992329  0.991971  0.991942  0.537855  0.995624\n",
       "XGB     0.992329  1.000000  0.996712  0.995200  0.537977  0.998278\n",
       "LGBM    0.991971  0.996712  1.000000  0.994994  0.537425  0.998232\n",
       "HIST    0.991942  0.995200  0.994994  1.000000  0.539706  0.996387\n",
       "label   0.537855  0.537977  0.537425  0.539706  1.000000  0.538933\n",
       "Voting  0.995624  0.998278  0.998232  0.996387  0.538933  1.000000"
      ]
     },
     "execution_count": 23,
     "metadata": {},
     "output_type": "execute_result"
    }
   ],
   "source": [
    "data2.corr()"
   ]
  },
  {
   "cell_type": "code",
   "execution_count": 24,
   "id": "b92ec87d",
   "metadata": {
    "execution": {
     "iopub.execute_input": "2022-11-19T02:48:17.282313Z",
     "iopub.status.busy": "2022-11-19T02:48:17.281777Z",
     "iopub.status.idle": "2022-11-19T02:48:17.320695Z",
     "shell.execute_reply": "2022-11-19T02:48:17.319380Z"
    },
    "papermill": {
     "duration": 0.052976,
     "end_time": "2022-11-19T02:48:17.323672",
     "exception": false,
     "start_time": "2022-11-19T02:48:17.270696",
     "status": "completed"
    },
    "tags": []
   },
   "outputs": [
    {
     "data": {
      "text/plain": [
       "array([[0.60917031, 0.60194175, 0.58409786, ..., 0.61483254, 0.53833333,\n",
       "        0.852352  ],\n",
       "       [0.70469799, 0.56677524, 0.55395683, ..., 0.51569038, 0.53833333,\n",
       "        0.780966  ],\n",
       "       [0.29273084, 0.33684211, 0.29304813, ..., 0.33190578, 0.25675676,\n",
       "        0.551725  ],\n",
       "       ...,\n",
       "       [0.57462687, 0.49753695, 0.47886029, ..., 0.47853736, 0.47660819,\n",
       "        0.769139  ],\n",
       "       [0.61488673, 0.71641791, 0.58409786, ..., 0.46848542, 0.53833333,\n",
       "        0.687243  ],\n",
       "       [0.38356164, 0.37827715, 0.35042735, ..., 0.34693878, 0.32183908,\n",
       "        0.618504  ]])"
      ]
     },
     "execution_count": 24,
     "metadata": {},
     "output_type": "execute_result"
    }
   ],
   "source": [
    "FeaturesTest = np.array(test[test.columns[:]])\n",
    "FeaturesTest"
   ]
  },
  {
   "cell_type": "code",
   "execution_count": 25,
   "id": "5eb21c3b",
   "metadata": {
    "execution": {
     "iopub.execute_input": "2022-11-19T02:48:17.345396Z",
     "iopub.status.busy": "2022-11-19T02:48:17.344323Z",
     "iopub.status.idle": "2022-11-19T02:48:17.353221Z",
     "shell.execute_reply": "2022-11-19T02:48:17.352000Z"
    },
    "papermill": {
     "duration": 0.022721,
     "end_time": "2022-11-19T02:48:17.355982",
     "exception": false,
     "start_time": "2022-11-19T02:48:17.333261",
     "status": "completed"
    },
    "tags": []
   },
   "outputs": [
    {
     "data": {
      "text/plain": [
       "array([[0.60917031, 0.60194175, 0.58409786, ..., 0.61483254, 0.53833333,\n",
       "        0.852352  ],\n",
       "       [0.70469799, 0.56677524, 0.55395683, ..., 0.51569038, 0.53833333,\n",
       "        0.780966  ],\n",
       "       [0.29273084, 0.33684211, 0.29304813, ..., 0.33190578, 0.25675676,\n",
       "        0.551725  ],\n",
       "       ...,\n",
       "       [0.57462687, 0.49753695, 0.47886029, ..., 0.47853736, 0.47660819,\n",
       "        0.769139  ],\n",
       "       [0.61488673, 0.71641791, 0.58409786, ..., 0.46848542, 0.53833333,\n",
       "        0.687243  ],\n",
       "       [0.38356164, 0.37827715, 0.35042735, ..., 0.34693878, 0.32183908,\n",
       "        0.618504  ]])"
      ]
     },
     "execution_count": 25,
     "metadata": {},
     "output_type": "execute_result"
    }
   ],
   "source": [
    "#FeaturesTest = scaler.transform(FeaturesTest)\n",
    "FeaturesTest"
   ]
  },
  {
   "cell_type": "code",
   "execution_count": 26,
   "id": "1e5447c1",
   "metadata": {
    "execution": {
     "iopub.execute_input": "2022-11-19T02:48:17.377678Z",
     "iopub.status.busy": "2022-11-19T02:48:17.376612Z",
     "iopub.status.idle": "2022-11-19T02:49:29.106946Z",
     "shell.execute_reply": "2022-11-19T02:49:29.106280Z"
    },
    "papermill": {
     "duration": 71.752215,
     "end_time": "2022-11-19T02:49:29.118044",
     "exception": false,
     "start_time": "2022-11-19T02:48:17.365829",
     "status": "completed"
    },
    "tags": []
   },
   "outputs": [
    {
     "data": {
      "text/html": [
       "<div>\n",
       "<style scoped>\n",
       "    .dataframe tbody tr th:only-of-type {\n",
       "        vertical-align: middle;\n",
       "    }\n",
       "\n",
       "    .dataframe tbody tr th {\n",
       "        vertical-align: top;\n",
       "    }\n",
       "\n",
       "    .dataframe thead th {\n",
       "        text-align: right;\n",
       "    }\n",
       "</style>\n",
       "<table border=\"1\" class=\"dataframe\">\n",
       "  <thead>\n",
       "    <tr style=\"text-align: right;\">\n",
       "      <th></th>\n",
       "      <th>pred</th>\n",
       "    </tr>\n",
       "    <tr>\n",
       "      <th>id</th>\n",
       "      <th></th>\n",
       "    </tr>\n",
       "  </thead>\n",
       "  <tbody>\n",
       "    <tr>\n",
       "      <th>20000</th>\n",
       "      <td>0.592851</td>\n",
       "    </tr>\n",
       "    <tr>\n",
       "      <th>20001</th>\n",
       "      <td>0.669549</td>\n",
       "    </tr>\n",
       "    <tr>\n",
       "      <th>20002</th>\n",
       "      <td>0.242986</td>\n",
       "    </tr>\n",
       "    <tr>\n",
       "      <th>20003</th>\n",
       "      <td>0.418430</td>\n",
       "    </tr>\n",
       "    <tr>\n",
       "      <th>20004</th>\n",
       "      <td>0.049313</td>\n",
       "    </tr>\n",
       "    <tr>\n",
       "      <th>20005</th>\n",
       "      <td>0.296718</td>\n",
       "    </tr>\n",
       "    <tr>\n",
       "      <th>20006</th>\n",
       "      <td>0.441960</td>\n",
       "    </tr>\n",
       "    <tr>\n",
       "      <th>20007</th>\n",
       "      <td>0.784431</td>\n",
       "    </tr>\n",
       "    <tr>\n",
       "      <th>20008</th>\n",
       "      <td>0.800568</td>\n",
       "    </tr>\n",
       "    <tr>\n",
       "      <th>20009</th>\n",
       "      <td>0.454023</td>\n",
       "    </tr>\n",
       "    <tr>\n",
       "      <th>20010</th>\n",
       "      <td>0.349819</td>\n",
       "    </tr>\n",
       "    <tr>\n",
       "      <th>20011</th>\n",
       "      <td>0.025605</td>\n",
       "    </tr>\n",
       "    <tr>\n",
       "      <th>20012</th>\n",
       "      <td>0.683571</td>\n",
       "    </tr>\n",
       "    <tr>\n",
       "      <th>20013</th>\n",
       "      <td>0.701402</td>\n",
       "    </tr>\n",
       "    <tr>\n",
       "      <th>20014</th>\n",
       "      <td>0.665124</td>\n",
       "    </tr>\n",
       "    <tr>\n",
       "      <th>20015</th>\n",
       "      <td>0.583453</td>\n",
       "    </tr>\n",
       "    <tr>\n",
       "      <th>20016</th>\n",
       "      <td>0.180718</td>\n",
       "    </tr>\n",
       "    <tr>\n",
       "      <th>20017</th>\n",
       "      <td>0.343699</td>\n",
       "    </tr>\n",
       "    <tr>\n",
       "      <th>20018</th>\n",
       "      <td>0.251880</td>\n",
       "    </tr>\n",
       "    <tr>\n",
       "      <th>20019</th>\n",
       "      <td>0.422667</td>\n",
       "    </tr>\n",
       "  </tbody>\n",
       "</table>\n",
       "</div>"
      ],
      "text/plain": [
       "           pred\n",
       "id             \n",
       "20000  0.592851\n",
       "20001  0.669549\n",
       "20002  0.242986\n",
       "20003  0.418430\n",
       "20004  0.049313\n",
       "20005  0.296718\n",
       "20006  0.441960\n",
       "20007  0.784431\n",
       "20008  0.800568\n",
       "20009  0.454023\n",
       "20010  0.349819\n",
       "20011  0.025605\n",
       "20012  0.683571\n",
       "20013  0.701402\n",
       "20014  0.665124\n",
       "20015  0.583453\n",
       "20016  0.180718\n",
       "20017  0.343699\n",
       "20018  0.251880\n",
       "20019  0.422667"
      ]
     },
     "execution_count": 26,
     "metadata": {},
     "output_type": "execute_result"
    }
   ],
   "source": [
    "eclf1 = VotingClassifier(estimators=[('Hist', hist), ('XGB', xgb), ('LGBM', lgbm), ('RF', RF)], voting='soft')\n",
    "eclf1 = eclf1.fit(Features, train['label'])\n",
    "hist = hist.fit(Features, train['label'])\n",
    "xgb = xgb.fit(Features, train['label'])\n",
    "final_pred = eclf1.predict_proba(FeaturesTest)\n",
    "final_pred2 = hist.predict_proba(FeaturesTest)\n",
    "final_pred3 = xgb.predict_proba(FeaturesTest)\n",
    "df['pred'] = 0.85*final_pred[:, 1] + 0.15*final_pred2[:, 1]+ 0.0*final_pred3[:, 1]\n",
    "submission = df.filter(items={'id', 'pred'})\n",
    "submission.head(20)"
   ]
  },
  {
   "cell_type": "code",
   "execution_count": 27,
   "id": "303ed38a",
   "metadata": {
    "execution": {
     "iopub.execute_input": "2022-11-19T02:49:29.139243Z",
     "iopub.status.busy": "2022-11-19T02:49:29.137851Z",
     "iopub.status.idle": "2022-11-19T02:49:29.183169Z",
     "shell.execute_reply": "2022-11-19T02:49:29.181961Z"
    },
    "papermill": {
     "duration": 0.058556,
     "end_time": "2022-11-19T02:49:29.185772",
     "exception": false,
     "start_time": "2022-11-19T02:49:29.127216",
     "status": "completed"
    },
    "tags": []
   },
   "outputs": [],
   "source": [
    "submission.to_csv('submission.csv')"
   ]
  },
  {
   "cell_type": "code",
   "execution_count": null,
   "id": "2ddf9aa9",
   "metadata": {
    "papermill": {
     "duration": 0.00912,
     "end_time": "2022-11-19T02:49:29.204518",
     "exception": false,
     "start_time": "2022-11-19T02:49:29.195398",
     "status": "completed"
    },
    "tags": []
   },
   "outputs": [],
   "source": []
  }
 ],
 "metadata": {
  "kernelspec": {
   "display_name": "Python 3",
   "language": "python",
   "name": "python3"
  },
  "language_info": {
   "codemirror_mode": {
    "name": "ipython",
    "version": 3
   },
   "file_extension": ".py",
   "mimetype": "text/x-python",
   "name": "python",
   "nbconvert_exporter": "python",
   "pygments_lexer": "ipython3",
   "version": "3.7.12"
  },
  "papermill": {
   "default_parameters": {},
   "duration": 335.310391,
   "end_time": "2022-11-19T02:49:30.342257",
   "environment_variables": {},
   "exception": null,
   "input_path": "__notebook__.ipynb",
   "output_path": "__notebook__.ipynb",
   "parameters": {},
   "start_time": "2022-11-19T02:43:55.031866",
   "version": "2.3.4"
  }
 },
 "nbformat": 4,
 "nbformat_minor": 5
}
